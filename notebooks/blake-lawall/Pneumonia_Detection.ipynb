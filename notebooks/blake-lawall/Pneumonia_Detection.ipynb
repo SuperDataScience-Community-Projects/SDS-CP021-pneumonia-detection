{
 "cells": [
  {
   "cell_type": "markdown",
   "id": "33841650-ff3b-41cd-9f07-8e268dc4a372",
   "metadata": {},
   "source": [
    "# Convolution Neural Network"
   ]
  },
  {
   "cell_type": "code",
   "execution_count": 1,
   "id": "8bc1dbdd-cdde-482a-b196-0ce8e941f7ec",
   "metadata": {},
   "outputs": [
    {
     "name": "stderr",
     "output_type": "stream",
     "text": [
      "2025-01-27 09:05:33.828695: I tensorflow/core/platform/cpu_feature_guard.cc:210] This TensorFlow binary is optimized to use available CPU instructions in performance-critical operations.\n",
      "To enable the following instructions: AVX2 FMA, in other operations, rebuild TensorFlow with the appropriate compiler flags.\n"
     ]
    }
   ],
   "source": [
    "import tensorflow as tf\n",
    "from tensorflow.keras.preprocessing.image import ImageDataGenerator"
   ]
  },
  {
   "cell_type": "code",
   "execution_count": 2,
   "id": "ff8c0c98-1384-433b-9a87-f06a5274a6a6",
   "metadata": {},
   "outputs": [
    {
     "data": {
      "text/plain": [
       "'2.16.2'"
      ]
     },
     "execution_count": 2,
     "metadata": {},
     "output_type": "execute_result"
    }
   ],
   "source": [
    "tf.__version__"
   ]
  },
  {
   "cell_type": "markdown",
   "id": "acdb3f15-224d-42cd-bccf-29161dbc49e3",
   "metadata": {},
   "source": [
    "## Part 1 - Data Preprocessing"
   ]
  },
  {
   "cell_type": "markdown",
   "id": "cc0fdded-098e-46f3-80fd-c48f38a5e3fe",
   "metadata": {},
   "source": [
    "### Preprocessing the Training set"
   ]
  },
  {
   "cell_type": "code",
   "execution_count": 3,
   "id": "7e16a9e7-02fb-4609-981d-9ea579a92e1c",
   "metadata": {},
   "outputs": [
    {
     "name": "stdout",
     "output_type": "stream",
     "text": [
      "Found 5216 images belonging to 2 classes.\n"
     ]
    }
   ],
   "source": [
    "# data_augmentation = tf.keras.Sequential([\n",
    "#     tf.keras.layers.RandomFlip(\"horizontal_and_vertical\"),\n",
    "#     tf.keras.layers.RandomBrightness(0.25, seed=10),\n",
    "#     tf.keras.layers.RandomContrast(0.5, seed=20),\n",
    "#     tf.keras.layers.RandomRotation(0.028, fill_mode=\"constant\", seed=35),\n",
    "# ])\n",
    "\n",
    "train_datagen = ImageDataGenerator(rescale = 1./255,\n",
    "                                    rotation_range=20,\n",
    "                                   width_shift_range=0.2,\n",
    "                                   height_shift_range=0.2,\n",
    "                                   shear_range=0.2,\n",
    "                                   zoom_range=0.2,\n",
    "                                   horizontal_flip=True,\n",
    "                                   fill_mode='nearest')\n",
    "#train_datagen = data_augmentation\n",
    "training_set = train_datagen.flow_from_directory('chest_xray/train',\n",
    "                                                 target_size = (64, 64),\n",
    "                                                 batch_size = 32,\n",
    "                                                 class_mode = 'binary')\n",
    "#training_set = data_augmentation"
   ]
  },
  {
   "cell_type": "markdown",
   "id": "4ad38eee-ee1b-4683-b331-7a69760d1234",
   "metadata": {},
   "source": [
    "### Preprocessing the Test set"
   ]
  },
  {
   "cell_type": "code",
   "execution_count": 4,
   "id": "151f3644-aad3-4f8a-aa5f-eeff089ee5ad",
   "metadata": {},
   "outputs": [
    {
     "name": "stdout",
     "output_type": "stream",
     "text": [
      "Found 624 images belonging to 2 classes.\n"
     ]
    }
   ],
   "source": [
    "test_datagen = ImageDataGenerator(rescale = 1./255)\n",
    "test_set = test_datagen.flow_from_directory('chest_xray/test',\n",
    "                                            target_size = (64, 64),\n",
    "                                            batch_size = 32,\n",
    "                                            class_mode = 'binary')"
   ]
  },
  {
   "cell_type": "markdown",
   "id": "0288d9f8-a143-48de-b47b-3b460cc1873a",
   "metadata": {},
   "source": [
    "## Part 2 - Builind the CNN"
   ]
  },
  {
   "cell_type": "markdown",
   "id": "055549c0-c783-4483-977b-8adf36fbeb84",
   "metadata": {},
   "source": [
    "### Initialising the CNN"
   ]
  },
  {
   "cell_type": "code",
   "execution_count": 5,
   "id": "5d5cebe9-5a5f-4d5d-a08b-dedcac85a926",
   "metadata": {},
   "outputs": [],
   "source": [
    "cnn = tf.keras.models.Sequential()"
   ]
  },
  {
   "cell_type": "markdown",
   "id": "c372534e-1876-4af3-9d78-3ad3041761bf",
   "metadata": {},
   "source": [
    "### Step 1 -Convolution"
   ]
  },
  {
   "cell_type": "code",
   "execution_count": 6,
   "id": "0a29af48-323d-4af6-8148-35d2d7773bd5",
   "metadata": {},
   "outputs": [
    {
     "name": "stderr",
     "output_type": "stream",
     "text": [
      "/Library/Frameworks/Python.framework/Versions/3.12/lib/python3.12/site-packages/keras/src/layers/convolutional/base_conv.py:107: UserWarning: Do not pass an `input_shape`/`input_dim` argument to a layer. When using Sequential models, prefer using an `Input(shape)` object as the first layer in the model instead.\n",
      "  super().__init__(activity_regularizer=activity_regularizer, **kwargs)\n"
     ]
    }
   ],
   "source": [
    "cnn.add(tf.keras.layers.Conv2D(filters=32, kernel_size=3, activation='relu', input_shape=[64, 64,3]))"
   ]
  },
  {
   "cell_type": "markdown",
   "id": "5cef5f69-0960-4682-bce3-548e58bbbedd",
   "metadata": {},
   "source": [
    "### Step 2 -Pooling"
   ]
  },
  {
   "cell_type": "code",
   "execution_count": 7,
   "id": "969d2751-d7b4-4e3f-be30-5a4315445f2c",
   "metadata": {},
   "outputs": [],
   "source": [
    "cnn.add(tf.keras.layers.MaxPool2D(pool_size=2, strides=2))"
   ]
  },
  {
   "cell_type": "markdown",
   "id": "5eb9df94-9e54-4425-ad7b-f7d46ed8afd9",
   "metadata": {},
   "source": [
    "### Adding a second convolutional layer"
   ]
  },
  {
   "cell_type": "code",
   "execution_count": 8,
   "id": "12724e4b-428f-4291-aed9-2e5f15141468",
   "metadata": {},
   "outputs": [],
   "source": [
    "cnn.add(tf.keras.layers.Conv2D(filters=32, kernel_size=3, activation='relu'))\n",
    "cnn.add(tf.keras.layers.MaxPool2D(pool_size=2, strides=2))"
   ]
  },
  {
   "cell_type": "markdown",
   "id": "b53f0060-b68f-41bb-996a-957596d714a0",
   "metadata": {},
   "source": [
    "### Step 3 -Flattening"
   ]
  },
  {
   "cell_type": "code",
   "execution_count": 9,
   "id": "ac18b44c-61ff-4581-81ac-448550e69281",
   "metadata": {},
   "outputs": [],
   "source": [
    "cnn.add(tf.keras.layers.Flatten())"
   ]
  },
  {
   "cell_type": "markdown",
   "id": "041901b6-afcd-4d23-ad77-6275804c5f23",
   "metadata": {},
   "source": [
    "### Step 4 -Full Connection"
   ]
  },
  {
   "cell_type": "code",
   "execution_count": 10,
   "id": "10d0173d-d4ac-4d18-972c-33c5f28f54c3",
   "metadata": {},
   "outputs": [],
   "source": [
    "cnn.add(tf.keras.layers.Dense(units=128, activation='relu'))"
   ]
  },
  {
   "cell_type": "markdown",
   "id": "3fdbaa53-e2a1-4402-8dcf-2e104a63528a",
   "metadata": {},
   "source": [
    "### Step 5 -Output Layer"
   ]
  },
  {
   "cell_type": "code",
   "execution_count": 11,
   "id": "505b8293-08ab-433d-93a7-2e9370f99825",
   "metadata": {},
   "outputs": [],
   "source": [
    "cnn.add(tf.keras.layers.Dense(units=1, activation='sigmoid'))"
   ]
  },
  {
   "cell_type": "markdown",
   "id": "21686b9e-eac0-45c0-a0cf-590b15891786",
   "metadata": {},
   "source": [
    "## Part 3 - Training the CNN"
   ]
  },
  {
   "cell_type": "markdown",
   "id": "d5d21596-7f46-4897-bb29-e1d09bfa3df5",
   "metadata": {},
   "source": [
    "### Compiling the CNN"
   ]
  },
  {
   "cell_type": "code",
   "execution_count": 12,
   "id": "3831c28f-8a39-4d6c-aaba-46f8c7cf48e6",
   "metadata": {},
   "outputs": [],
   "source": [
    "cnn.compile(optimizer = 'adam', loss = 'binary_crossentropy', metrics =['accuracy'])"
   ]
  },
  {
   "cell_type": "markdown",
   "id": "7227f17a-b954-42a7-8405-f1184c21cb7a",
   "metadata": {},
   "source": [
    "### Training the CNN on the Training set and evaluating it on the Test Set"
   ]
  },
  {
   "cell_type": "code",
   "execution_count": 13,
   "id": "e3dec85a-b6a7-48ae-96a1-d77c38d59dbc",
   "metadata": {},
   "outputs": [
    {
     "name": "stderr",
     "output_type": "stream",
     "text": [
      "/Library/Frameworks/Python.framework/Versions/3.12/lib/python3.12/site-packages/keras/src/trainers/data_adapters/py_dataset_adapter.py:121: UserWarning: Your `PyDataset` class should call `super().__init__(**kwargs)` in its constructor. `**kwargs` can include `workers`, `use_multiprocessing`, `max_queue_size`. Do not pass these arguments to `fit()`, as they will be ignored.\n",
      "  self._warn_if_super_not_called()\n"
     ]
    },
    {
     "name": "stdout",
     "output_type": "stream",
     "text": [
      "Epoch 1/25\n",
      "\u001b[1m163/163\u001b[0m \u001b[32m━━━━━━━━━━━━━━━━━━━━\u001b[0m\u001b[37m\u001b[0m \u001b[1m67s\u001b[0m 408ms/step - accuracy: 0.7468 - loss: 0.5419 - val_accuracy: 0.7724 - val_loss: 0.4691\n",
      "Epoch 2/25\n",
      "\u001b[1m163/163\u001b[0m \u001b[32m━━━━━━━━━━━━━━━━━━━━\u001b[0m\u001b[37m\u001b[0m \u001b[1m65s\u001b[0m 401ms/step - accuracy: 0.8365 - loss: 0.3667 - val_accuracy: 0.7804 - val_loss: 0.4256\n",
      "Epoch 3/25\n",
      "\u001b[1m163/163\u001b[0m \u001b[32m━━━━━━━━━━━━━━━━━━━━\u001b[0m\u001b[37m\u001b[0m \u001b[1m65s\u001b[0m 399ms/step - accuracy: 0.8401 - loss: 0.3466 - val_accuracy: 0.8093 - val_loss: 0.3858\n",
      "Epoch 4/25\n",
      "\u001b[1m163/163\u001b[0m \u001b[32m━━━━━━━━━━━━━━━━━━━━\u001b[0m\u001b[37m\u001b[0m \u001b[1m64s\u001b[0m 394ms/step - accuracy: 0.8726 - loss: 0.2974 - val_accuracy: 0.8157 - val_loss: 0.4060\n",
      "Epoch 5/25\n",
      "\u001b[1m163/163\u001b[0m \u001b[32m━━━━━━━━━━━━━━━━━━━━\u001b[0m\u001b[37m\u001b[0m \u001b[1m65s\u001b[0m 398ms/step - accuracy: 0.8681 - loss: 0.2957 - val_accuracy: 0.8686 - val_loss: 0.3295\n",
      "Epoch 6/25\n",
      "\u001b[1m163/163\u001b[0m \u001b[32m━━━━━━━━━━━━━━━━━━━━\u001b[0m\u001b[37m\u001b[0m \u001b[1m65s\u001b[0m 398ms/step - accuracy: 0.8996 - loss: 0.2496 - val_accuracy: 0.8846 - val_loss: 0.3035\n",
      "Epoch 7/25\n",
      "\u001b[1m163/163\u001b[0m \u001b[32m━━━━━━━━━━━━━━━━━━━━\u001b[0m\u001b[37m\u001b[0m \u001b[1m65s\u001b[0m 398ms/step - accuracy: 0.8886 - loss: 0.2574 - val_accuracy: 0.8574 - val_loss: 0.3186\n",
      "Epoch 8/25\n",
      "\u001b[1m163/163\u001b[0m \u001b[32m━━━━━━━━━━━━━━━━━━━━\u001b[0m\u001b[37m\u001b[0m \u001b[1m66s\u001b[0m 406ms/step - accuracy: 0.8995 - loss: 0.2387 - val_accuracy: 0.8654 - val_loss: 0.3306\n",
      "Epoch 9/25\n",
      "\u001b[1m163/163\u001b[0m \u001b[32m━━━━━━━━━━━━━━━━━━━━\u001b[0m\u001b[37m\u001b[0m \u001b[1m69s\u001b[0m 426ms/step - accuracy: 0.9072 - loss: 0.2290 - val_accuracy: 0.8750 - val_loss: 0.3108\n",
      "Epoch 10/25\n",
      "\u001b[1m163/163\u001b[0m \u001b[32m━━━━━━━━━━━━━━━━━━━━\u001b[0m\u001b[37m\u001b[0m \u001b[1m68s\u001b[0m 420ms/step - accuracy: 0.9093 - loss: 0.2229 - val_accuracy: 0.8766 - val_loss: 0.2967\n",
      "Epoch 11/25\n",
      "\u001b[1m163/163\u001b[0m \u001b[32m━━━━━━━━━━━━━━━━━━━━\u001b[0m\u001b[37m\u001b[0m \u001b[1m69s\u001b[0m 422ms/step - accuracy: 0.9130 - loss: 0.2104 - val_accuracy: 0.8862 - val_loss: 0.3174\n",
      "Epoch 12/25\n",
      "\u001b[1m163/163\u001b[0m \u001b[32m━━━━━━━━━━━━━━━━━━━━\u001b[0m\u001b[37m\u001b[0m \u001b[1m70s\u001b[0m 426ms/step - accuracy: 0.9056 - loss: 0.2260 - val_accuracy: 0.8381 - val_loss: 0.3854\n",
      "Epoch 13/25\n",
      "\u001b[1m163/163\u001b[0m \u001b[32m━━━━━━━━━━━━━━━━━━━━\u001b[0m\u001b[37m\u001b[0m \u001b[1m71s\u001b[0m 438ms/step - accuracy: 0.9154 - loss: 0.2083 - val_accuracy: 0.8702 - val_loss: 0.3543\n",
      "Epoch 14/25\n",
      "\u001b[1m163/163\u001b[0m \u001b[32m━━━━━━━━━━━━━━━━━━━━\u001b[0m\u001b[37m\u001b[0m \u001b[1m71s\u001b[0m 436ms/step - accuracy: 0.9105 - loss: 0.2113 - val_accuracy: 0.8958 - val_loss: 0.2809\n",
      "Epoch 15/25\n",
      "\u001b[1m163/163\u001b[0m \u001b[32m━━━━━━━━━━━━━━━━━━━━\u001b[0m\u001b[37m\u001b[0m \u001b[1m70s\u001b[0m 430ms/step - accuracy: 0.9160 - loss: 0.2049 - val_accuracy: 0.8606 - val_loss: 0.3596\n",
      "Epoch 16/25\n",
      "\u001b[1m163/163\u001b[0m \u001b[32m━━━━━━━━━━━━━━━━━━━━\u001b[0m\u001b[37m\u001b[0m \u001b[1m69s\u001b[0m 421ms/step - accuracy: 0.9155 - loss: 0.2076 - val_accuracy: 0.8734 - val_loss: 0.3601\n",
      "Epoch 17/25\n",
      "\u001b[1m163/163\u001b[0m \u001b[32m━━━━━━━━━━━━━━━━━━━━\u001b[0m\u001b[37m\u001b[0m \u001b[1m68s\u001b[0m 417ms/step - accuracy: 0.9317 - loss: 0.1778 - val_accuracy: 0.8109 - val_loss: 0.4957\n",
      "Epoch 18/25\n",
      "\u001b[1m163/163\u001b[0m \u001b[32m━━━━━━━━━━━━━━━━━━━━\u001b[0m\u001b[37m\u001b[0m \u001b[1m68s\u001b[0m 420ms/step - accuracy: 0.9219 - loss: 0.1989 - val_accuracy: 0.8558 - val_loss: 0.3836\n",
      "Epoch 19/25\n",
      "\u001b[1m163/163\u001b[0m \u001b[32m━━━━━━━━━━━━━━━━━━━━\u001b[0m\u001b[37m\u001b[0m \u001b[1m68s\u001b[0m 417ms/step - accuracy: 0.9260 - loss: 0.1807 - val_accuracy: 0.8622 - val_loss: 0.3757\n",
      "Epoch 20/25\n",
      "\u001b[1m163/163\u001b[0m \u001b[32m━━━━━━━━━━━━━━━━━━━━\u001b[0m\u001b[37m\u001b[0m \u001b[1m68s\u001b[0m 419ms/step - accuracy: 0.9112 - loss: 0.2009 - val_accuracy: 0.8926 - val_loss: 0.2790\n",
      "Epoch 21/25\n",
      "\u001b[1m163/163\u001b[0m \u001b[32m━━━━━━━━━━━━━━━━━━━━\u001b[0m\u001b[37m\u001b[0m \u001b[1m69s\u001b[0m 422ms/step - accuracy: 0.9315 - loss: 0.1685 - val_accuracy: 0.8622 - val_loss: 0.3969\n",
      "Epoch 22/25\n",
      "\u001b[1m163/163\u001b[0m \u001b[32m━━━━━━━━━━━━━━━━━━━━\u001b[0m\u001b[37m\u001b[0m \u001b[1m69s\u001b[0m 421ms/step - accuracy: 0.9216 - loss: 0.1845 - val_accuracy: 0.8958 - val_loss: 0.2967\n",
      "Epoch 23/25\n",
      "\u001b[1m163/163\u001b[0m \u001b[32m━━━━━━━━━━━━━━━━━━━━\u001b[0m\u001b[37m\u001b[0m \u001b[1m68s\u001b[0m 416ms/step - accuracy: 0.9366 - loss: 0.1685 - val_accuracy: 0.8622 - val_loss: 0.3609\n",
      "Epoch 24/25\n",
      "\u001b[1m163/163\u001b[0m \u001b[32m━━━━━━━━━━━━━━━━━━━━\u001b[0m\u001b[37m\u001b[0m \u001b[1m68s\u001b[0m 417ms/step - accuracy: 0.9258 - loss: 0.1775 - val_accuracy: 0.8782 - val_loss: 0.3335\n",
      "Epoch 25/25\n",
      "\u001b[1m163/163\u001b[0m \u001b[32m━━━━━━━━━━━━━━━━━━━━\u001b[0m\u001b[37m\u001b[0m \u001b[1m69s\u001b[0m 422ms/step - accuracy: 0.9295 - loss: 0.1786 - val_accuracy: 0.8782 - val_loss: 0.3799\n"
     ]
    },
    {
     "data": {
      "text/plain": [
       "<keras.src.callbacks.history.History at 0x10a6a3500>"
      ]
     },
     "execution_count": 13,
     "metadata": {},
     "output_type": "execute_result"
    }
   ],
   "source": [
    "cnn.fit(x = training_set, validation_data = test_set, epochs = 25)"
   ]
  },
  {
   "cell_type": "markdown",
   "id": "c34a011e-a7f0-45cb-bba5-a5791916717b",
   "metadata": {},
   "source": [
    "# Part 4 -Making a single prediction"
   ]
  },
  {
   "cell_type": "code",
   "execution_count": 14,
   "id": "4814c11d-a17e-42d8-959c-75883e3a5d2b",
   "metadata": {},
   "outputs": [
    {
     "name": "stdout",
     "output_type": "stream",
     "text": [
      "\u001b[1m1/1\u001b[0m \u001b[32m━━━━━━━━━━━━━━━━━━━━\u001b[0m\u001b[37m\u001b[0m \u001b[1m0s\u001b[0m 71ms/step\n"
     ]
    }
   ],
   "source": [
    "import numpy as np\n",
    "from tensorflow.keras.preprocessing import image\n",
    "test_image = image.load_img('chest_xray/val/NORMAL/NORMAL2-IM-1427-0001.jpeg', target_size = (64, 64))\n",
    "test_image = image.img_to_array(test_image)\n",
    "test_image = np.expand_dims(test_image, axis = 0)\n",
    "result = cnn.predict(test_image)\n",
    "training_set.class_indices\n",
    "if result[0][0] == 1:\n",
    "  prediction = 'pneumonia'\n",
    "else:\n",
    "  prediction = 'not pneumonia'"
   ]
  },
  {
   "cell_type": "code",
   "execution_count": 15,
   "id": "3e16a09b-5b37-41d8-bd07-8aef8ee55d41",
   "metadata": {},
   "outputs": [
    {
     "name": "stdout",
     "output_type": "stream",
     "text": [
      "not pneumonia\n"
     ]
    }
   ],
   "source": [
    "print(prediction)"
   ]
  },
  {
   "cell_type": "code",
   "execution_count": null,
   "id": "9b7d8050-a869-4148-a8fc-deb69ba6cea2",
   "metadata": {},
   "outputs": [],
   "source": []
  }
 ],
 "metadata": {
  "kernelspec": {
   "display_name": "Python 3 (ipykernel)",
   "language": "python",
   "name": "python3"
  },
  "language_info": {
   "codemirror_mode": {
    "name": "ipython",
    "version": 3
   },
   "file_extension": ".py",
   "mimetype": "text/x-python",
   "name": "python",
   "nbconvert_exporter": "python",
   "pygments_lexer": "ipython3",
   "version": "3.12.3"
  }
 },
 "nbformat": 4,
 "nbformat_minor": 5
}
